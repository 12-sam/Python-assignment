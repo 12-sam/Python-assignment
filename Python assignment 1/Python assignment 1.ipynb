{
 "cells": [
  {
   "cell_type": "code",
   "execution_count": 1,
   "id": "5b731a0c",
   "metadata": {},
   "outputs": [
    {
     "name": "stdout",
     "output_type": "stream",
     "text": [
      "Twinkle, twinkle, little star, \n",
      "\tHow I wonder what you are! \n",
      "\t\tUp above the world so high, \n",
      "\t\tLike a diamond in the sky. \n",
      "Twinkle, twinkle, little star, \n",
      "\tHow I wonder what you are!\n"
     ]
    }
   ],
   "source": [
    "print(\"Twinkle, twinkle, little star, \\n\\tHow I wonder what you are! \\n\\t\\tUp above the world so high, \\n\\t\\tLike a diamond in the sky. \\nTwinkle, twinkle, little star, \\n\\tHow I wonder what you are!\")\n"
   ]
  },
  {
   "cell_type": "code",
   "execution_count": 2,
   "id": "fbbc144e",
   "metadata": {},
   "outputs": [
    {
     "name": "stdout",
     "output_type": "stream",
     "text": [
      "3.9.7 (default, Sep 16 2021, 16:59:28) [MSC v.1916 64 bit (AMD64)]\n"
     ]
    }
   ],
   "source": [
    "import sys\n",
    "print(sys.version)"
   ]
  },
  {
   "cell_type": "code",
   "execution_count": 3,
   "id": "a8b026b0",
   "metadata": {},
   "outputs": [
    {
     "name": "stdout",
     "output_type": "stream",
     "text": [
      "current date and time : \n",
      "2022-01-03-11:12:40\n"
     ]
    }
   ],
   "source": [
    "import datetime\n",
    "now = datetime.datetime.now()\n",
    "print(\"current date and time : \")\n",
    "print(now.strftime(\"%Y-%m-%d-%H:%M:%S\"))"
   ]
  },
  {
   "cell_type": "code",
   "execution_count": 4,
   "id": "b824ab14",
   "metadata": {},
   "outputs": [
    {
     "name": "stdout",
     "output_type": "stream",
     "text": [
      "Enter the radius of the circle: 2\n",
      "The area of the circle is: 12.566370614359172\n"
     ]
    }
   ],
   "source": [
    "from math import pi\n",
    "radius = float(input(\"Enter the radius of the circle: \"))\n",
    "print(\"The area of the circle is: \" + str(pi*radius**2))"
   ]
  },
  {
   "cell_type": "code",
   "execution_count": 5,
   "id": "a9e42c6c",
   "metadata": {},
   "outputs": [
    {
     "name": "stdout",
     "output_type": "stream",
     "text": [
      "Enter your first name: sameer\n",
      "Enter your last name: khan\n",
      "khan sameer\n"
     ]
    }
   ],
   "source": [
    "firstname = input(\"Enter your first name: \")\n",
    "lastname = input(\"Enter your last name: \")\n",
    "print(lastname + \" \" + firstname)"
   ]
  },
  {
   "cell_type": "code",
   "execution_count": 6,
   "id": "6809493e",
   "metadata": {},
   "outputs": [
    {
     "name": "stdout",
     "output_type": "stream",
     "text": [
      "Enter first number: 12\n",
      "Enter second number: 12\n",
      "The sum is :  24\n"
     ]
    }
   ],
   "source": [
    "num1 = input(\"Enter first number: \")\n",
    "num2 = input(\"Enter second number: \")\n",
    "sum = int(num1) + int(num2)\n",
    "print(\"The sum is : \", sum )"
   ]
  },
  {
   "cell_type": "code",
   "execution_count": null,
   "id": "67c1b8e5",
   "metadata": {},
   "outputs": [],
   "source": []
  }
 ],
 "metadata": {
  "kernelspec": {
   "display_name": "Python 3 (ipykernel)",
   "language": "python",
   "name": "python3"
  },
  "language_info": {
   "codemirror_mode": {
    "name": "ipython",
    "version": 3
   },
   "file_extension": ".py",
   "mimetype": "text/x-python",
   "name": "python",
   "nbconvert_exporter": "python",
   "pygments_lexer": "ipython3",
   "version": "3.9.7"
  }
 },
 "nbformat": 4,
 "nbformat_minor": 5
}
